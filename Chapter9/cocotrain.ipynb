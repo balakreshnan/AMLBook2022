{
 "cells": [
  {
   "cell_type": "code",
   "execution_count": null,
   "id": "218da044",
   "metadata": {},
   "outputs": [],
   "source": []
  },
  {
   "cell_type": "code",
   "execution_count": 16,
   "id": "f0829a40",
   "metadata": {},
   "outputs": [],
   "source": [
    "import os\n",
    "import shutil\n",
    "\n",
    "from azureml.core.workspace import Workspace\n",
    "from azureml.core import Experiment\n",
    "from azureml.core import Environment\n",
    "\n",
    "from azureml.core.compute import ComputeTarget, AmlCompute\n",
    "from azureml.core.compute_target import ComputeTargetException"
   ]
  },
  {
   "cell_type": "code",
   "execution_count": 17,
   "id": "ebe52476",
   "metadata": {},
   "outputs": [
    {
     "data": {
      "text/html": [
       "<div>\n",
       "<style scoped>\n",
       "    .dataframe tbody tr th:only-of-type {\n",
       "        vertical-align: middle;\n",
       "    }\n",
       "\n",
       "    .dataframe tbody tr th {\n",
       "        vertical-align: top;\n",
       "    }\n",
       "\n",
       "    .dataframe thead th {\n",
       "        text-align: right;\n",
       "    }\n",
       "</style>\n",
       "<table border=\"1\" class=\"dataframe\">\n",
       "  <thead>\n",
       "    <tr style=\"text-align: right;\">\n",
       "      <th></th>\n",
       "      <th>image_url</th>\n",
       "      <th>label</th>\n",
       "      <th>label_confidence</th>\n",
       "      <th>image_height</th>\n",
       "      <th>image_width</th>\n",
       "    </tr>\n",
       "  </thead>\n",
       "  <tbody>\n",
       "    <tr>\n",
       "      <th>0</th>\n",
       "      <td>workspaceblobstore/cocotrain2017/train2017/000...</td>\n",
       "      <td>[{'label': 'Person', 'isCrowd': False, 'polygo...</td>\n",
       "      <td>[1.0]</td>\n",
       "      <td>640</td>\n",
       "      <td>425</td>\n",
       "    </tr>\n",
       "    <tr>\n",
       "      <th>1</th>\n",
       "      <td>workspaceblobstore/cocotrain2017/train2017/000...</td>\n",
       "      <td>[{'label': 'Person', 'isCrowd': False, 'polygo...</td>\n",
       "      <td>[1.0, 1.0]</td>\n",
       "      <td>480</td>\n",
       "      <td>640</td>\n",
       "    </tr>\n",
       "    <tr>\n",
       "      <th>2</th>\n",
       "      <td>workspaceblobstore/cocotrain2017/train2017/000...</td>\n",
       "      <td>[{'label': 'food', 'isCrowd': False, 'polygon'...</td>\n",
       "      <td>[1.0]</td>\n",
       "      <td>425</td>\n",
       "      <td>640</td>\n",
       "    </tr>\n",
       "    <tr>\n",
       "      <th>3</th>\n",
       "      <td>workspaceblobstore/cocotrain2017/train2017/000...</td>\n",
       "      <td>[{'label': 'animals', 'isCrowd': False, 'polyg...</td>\n",
       "      <td>[1.0]</td>\n",
       "      <td>480</td>\n",
       "      <td>640</td>\n",
       "    </tr>\n",
       "    <tr>\n",
       "      <th>4</th>\n",
       "      <td>workspaceblobstore/cocotrain2017/train2017/000...</td>\n",
       "      <td>[{'label': 'animals', 'isCrowd': False, 'polyg...</td>\n",
       "      <td>[1.0, 1.0]</td>\n",
       "      <td>457</td>\n",
       "      <td>640</td>\n",
       "    </tr>\n",
       "    <tr>\n",
       "      <th>...</th>\n",
       "      <td>...</td>\n",
       "      <td>...</td>\n",
       "      <td>...</td>\n",
       "      <td>...</td>\n",
       "      <td>...</td>\n",
       "    </tr>\n",
       "    <tr>\n",
       "      <th>400</th>\n",
       "      <td>workspaceblobstore/cocotrain2017/train2017/000...</td>\n",
       "      <td>[{'label': 'Person', 'isCrowd': False, 'polygo...</td>\n",
       "      <td>[1.0]</td>\n",
       "      <td>427</td>\n",
       "      <td>640</td>\n",
       "    </tr>\n",
       "    <tr>\n",
       "      <th>401</th>\n",
       "      <td>workspaceblobstore/cocotrain2017/train2017/000...</td>\n",
       "      <td>[{'label': 'Person', 'isCrowd': False, 'polygo...</td>\n",
       "      <td>[1.0, 1.0, 1.0, 1.0, 1.0, 1.0]</td>\n",
       "      <td>427</td>\n",
       "      <td>640</td>\n",
       "    </tr>\n",
       "    <tr>\n",
       "      <th>402</th>\n",
       "      <td>workspaceblobstore/cocotrain2017/train2017/000...</td>\n",
       "      <td>[{'label': 'Person', 'isCrowd': False, 'polygo...</td>\n",
       "      <td>[1.0, 1.0, 1.0, 1.0, 1.0, 1.0, 1.0, 1.0]</td>\n",
       "      <td>480</td>\n",
       "      <td>640</td>\n",
       "    </tr>\n",
       "    <tr>\n",
       "      <th>403</th>\n",
       "      <td>workspaceblobstore/cocotrain2017/train2017/000...</td>\n",
       "      <td>[{'label': 'animals', 'isCrowd': False, 'polyg...</td>\n",
       "      <td>[1.0, 1.0, 1.0, 1.0, 1.0]</td>\n",
       "      <td>427</td>\n",
       "      <td>640</td>\n",
       "    </tr>\n",
       "    <tr>\n",
       "      <th>404</th>\n",
       "      <td>workspaceblobstore/cocotrain2017/train2017/000...</td>\n",
       "      <td>[{'label': 'Person', 'isCrowd': False, 'polygo...</td>\n",
       "      <td>[1.0, 1.0]</td>\n",
       "      <td>425</td>\n",
       "      <td>640</td>\n",
       "    </tr>\n",
       "  </tbody>\n",
       "</table>\n",
       "<p>405 rows × 5 columns</p>\n",
       "</div>"
      ],
      "text/plain": [
       "                                             image_url  \\\n",
       "0    workspaceblobstore/cocotrain2017/train2017/000...   \n",
       "1    workspaceblobstore/cocotrain2017/train2017/000...   \n",
       "2    workspaceblobstore/cocotrain2017/train2017/000...   \n",
       "3    workspaceblobstore/cocotrain2017/train2017/000...   \n",
       "4    workspaceblobstore/cocotrain2017/train2017/000...   \n",
       "..                                                 ...   \n",
       "400  workspaceblobstore/cocotrain2017/train2017/000...   \n",
       "401  workspaceblobstore/cocotrain2017/train2017/000...   \n",
       "402  workspaceblobstore/cocotrain2017/train2017/000...   \n",
       "403  workspaceblobstore/cocotrain2017/train2017/000...   \n",
       "404  workspaceblobstore/cocotrain2017/train2017/000...   \n",
       "\n",
       "                                                 label  \\\n",
       "0    [{'label': 'Person', 'isCrowd': False, 'polygo...   \n",
       "1    [{'label': 'Person', 'isCrowd': False, 'polygo...   \n",
       "2    [{'label': 'food', 'isCrowd': False, 'polygon'...   \n",
       "3    [{'label': 'animals', 'isCrowd': False, 'polyg...   \n",
       "4    [{'label': 'animals', 'isCrowd': False, 'polyg...   \n",
       "..                                                 ...   \n",
       "400  [{'label': 'Person', 'isCrowd': False, 'polygo...   \n",
       "401  [{'label': 'Person', 'isCrowd': False, 'polygo...   \n",
       "402  [{'label': 'Person', 'isCrowd': False, 'polygo...   \n",
       "403  [{'label': 'animals', 'isCrowd': False, 'polyg...   \n",
       "404  [{'label': 'Person', 'isCrowd': False, 'polygo...   \n",
       "\n",
       "                             label_confidence  image_height  image_width  \n",
       "0                                       [1.0]           640          425  \n",
       "1                                  [1.0, 1.0]           480          640  \n",
       "2                                       [1.0]           425          640  \n",
       "3                                       [1.0]           480          640  \n",
       "4                                  [1.0, 1.0]           457          640  \n",
       "..                                        ...           ...          ...  \n",
       "400                                     [1.0]           427          640  \n",
       "401            [1.0, 1.0, 1.0, 1.0, 1.0, 1.0]           427          640  \n",
       "402  [1.0, 1.0, 1.0, 1.0, 1.0, 1.0, 1.0, 1.0]           480          640  \n",
       "403                 [1.0, 1.0, 1.0, 1.0, 1.0]           427          640  \n",
       "404                                [1.0, 1.0]           425          640  \n",
       "\n",
       "[405 rows x 5 columns]"
      ]
     },
     "execution_count": 17,
     "metadata": {},
     "output_type": "execute_result"
    }
   ],
   "source": [
    "# azureml-core of version 1.0.72 or higher is required\n",
    "# azureml-dataprep[pandas] of version 1.1.34 or higher is required\n",
    "from azureml.core import Workspace, Dataset\n",
    "\n",
    "subscription_id = 'c46a9435-c957-4e6c-a0f4-b9a597984773'\n",
    "resource_group = 'mlops'\n",
    "workspace_name = 'mlopsdev'\n",
    "\n",
    "workspace = Workspace(subscription_id, resource_group, workspace_name)\n",
    "\n",
    "dataset = Dataset.get_by_name(workspace, name='cocotrain2017_20220424_180733')\n",
    "dataset.to_pandas_dataframe()"
   ]
  },
  {
   "cell_type": "code",
   "execution_count": 18,
   "id": "90bca7ff",
   "metadata": {},
   "outputs": [
    {
     "name": "stdout",
     "output_type": "stream",
     "text": [
      "Workspace name: mlopsdev\n",
      "Azure region: centralus\n",
      "Subscription id: c46a9435-c957-4e6c-a0f4-b9a597984773\n",
      "Resource group: mlops\n"
     ]
    }
   ],
   "source": [
    "from azureml.core.workspace import Workspace\n",
    "\n",
    "ws = Workspace.from_config()\n",
    "print('Workspace name: ' + ws.name, \n",
    "      'Azure region: ' + ws.location, \n",
    "      'Subscription id: ' + ws.subscription_id, \n",
    "      'Resource group: ' + ws.resource_group, sep='\\n')"
   ]
  },
  {
   "cell_type": "code",
   "execution_count": 19,
   "id": "2f0f9693",
   "metadata": {},
   "outputs": [],
   "source": [
    "from azureml.train.automl import AutoMLImageConfig\n",
    "from azureml.automl.core.shared.constants import ImageTask\n"
   ]
  },
  {
   "cell_type": "code",
   "execution_count": 20,
   "id": "d3dff4e1",
   "metadata": {},
   "outputs": [
    {
     "name": "stdout",
     "output_type": "stream",
     "text": [
      "Found existing compute target.\n",
      "Succeeded\n",
      "AmlCompute wait for completion finished\n",
      "\n",
      "Minimum number of nodes requested have been provisioned\n",
      "{'currentNodeCount': 0, 'targetNodeCount': 0, 'nodeStateCounts': {'preparingNodeCount': 0, 'runningNodeCount': 0, 'idleNodeCount': 0, 'unusableNodeCount': 0, 'leavingNodeCount': 0, 'preemptedNodeCount': 0}, 'allocationState': 'Steady', 'allocationStateTransitionTime': '2022-04-19T19:44:25.541000+00:00', 'errors': None, 'creationTime': '2021-10-28T14:08:02.758890+00:00', 'modifiedTime': '2021-10-28T14:08:18.269480+00:00', 'provisioningState': 'Succeeded', 'provisioningStateTransitionTime': None, 'scaleSettings': {'minNodeCount': 0, 'maxNodeCount': 2, 'nodeIdleTimeBeforeScaleDown': 'PT1800S'}, 'vmPriority': 'Dedicated', 'vmSize': 'STANDARD_NC24S_V3'}\n"
     ]
    }
   ],
   "source": [
    "from azureml.core.compute import ComputeTarget, AmlCompute\n",
    "from azureml.core.compute_target import ComputeTargetException\n",
    "\n",
    "# choose a name for your cluster\n",
    "cluster_name = \"gpu-cluster\"\n",
    "\n",
    "try:\n",
    "    compute_target = ComputeTarget(workspace=ws, name=cluster_name)\n",
    "    print('Found existing compute target.')\n",
    "except ComputeTargetException:\n",
    "    print('Creating a new compute target...')\n",
    "    compute_config = AmlCompute.provisioning_configuration(vm_size='STANDARD_NC6s_V3', \n",
    "                                                           max_nodes=4)\n",
    "\n",
    "    # create the cluster\n",
    "    compute_target = ComputeTarget.create(ws, cluster_name, compute_config)\n",
    "\n",
    "compute_target.wait_for_completion(show_output=True)\n",
    "\n",
    "# use get_status() to get a detailed status for the current cluster. \n",
    "print(compute_target.get_status().serialize())"
   ]
  },
  {
   "cell_type": "code",
   "execution_count": 21,
   "id": "aa939987",
   "metadata": {},
   "outputs": [],
   "source": [
    "from azureml.train.automl import AutoMLImageConfig\n",
    "from azureml.train.hyperdrive import GridParameterSampling, choice\n",
    "from azureml.automl.core.shared.constants import ImageTask\n",
    "\n",
    "arguments = [\"--early_stopping\", 1, \"--evaluation_frequency\", 2]\n",
    "\n",
    "automl_image_config_yolov5 = AutoMLImageConfig(task=ImageTask.IMAGE_OBJECT_DETECTION,\n",
    "                                               compute_target=compute_target,\n",
    "                                               training_data=dataset,\n",
    "                                               validation_data=dataset,\n",
    "                                               hyperparameter_sampling=GridParameterSampling({'model_name': choice('yolov5')}),\n",
    "                                               #primary_metric='mean_average_precision',\n",
    "                                               iterations=1)"
   ]
  },
  {
   "cell_type": "code",
   "execution_count": null,
   "id": "bd6809c0",
   "metadata": {},
   "outputs": [],
   "source": []
  },
  {
   "cell_type": "code",
   "execution_count": 23,
   "id": "77b5e5da",
   "metadata": {},
   "outputs": [
    {
     "name": "stderr",
     "output_type": "stream",
     "text": [
      "Class SynapseCompute: This is an experimental class, and may change at any time. Please see https://aka.ms/azuremlexperimental for more information.\n"
     ]
    },
    {
     "name": "stdout",
     "output_type": "stream",
     "text": [
      "Submitting remote run.\n"
     ]
    },
    {
     "data": {
      "text/html": [
       "<table style=\"width:100%\"><tr><th>Experiment</th><th>Id</th><th>Type</th><th>Status</th><th>Details Page</th><th>Docs Page</th></tr><tr><td>coco128-automl-image-object-detection</td><td>AutoML_035ab74b-895e-45d6-8431-b5161a7b11aa</td><td>automl</td><td>NotStarted</td><td><a href=\"https://ml.azure.com/runs/AutoML_035ab74b-895e-45d6-8431-b5161a7b11aa?wsid=/subscriptions/c46a9435-c957-4e6c-a0f4-b9a597984773/resourcegroups/mlops/workspaces/mlopsdev&amp;tid=72f988bf-86f1-41af-91ab-2d7cd011db47\" target=\"_blank\" rel=\"noopener\">Link to Azure Machine Learning studio</a></td><td><a href=\"https://docs.microsoft.com/en-us/python/api/overview/azure/ml/intro?view=azure-ml-py\" target=\"_blank\" rel=\"noopener\">Link to Documentation</a></td></tr></table>"
      ],
      "text/plain": [
       "<IPython.core.display.HTML object>"
      ]
     },
     "metadata": {},
     "output_type": "display_data"
    },
    {
     "data": {
      "text/plain": [
       "{'runId': 'AutoML_035ab74b-895e-45d6-8431-b5161a7b11aa',\n",
       " 'target': 'gpu-cluster',\n",
       " 'status': 'Completed',\n",
       " 'startTimeUtc': '2022-04-24T18:18:22.149576Z',\n",
       " 'endTimeUtc': '2022-04-24T18:32:03.215667Z',\n",
       " 'services': {},\n",
       " 'properties': {'num_iterations': '1',\n",
       "  'training_type': 'TrainFull',\n",
       "  'acquisition_function': 'EI',\n",
       "  'primary_metric': 'mean_average_precision',\n",
       "  'train_split': '0',\n",
       "  'acquisition_parameter': '0',\n",
       "  'num_cross_validation': None,\n",
       "  'target': 'gpu-cluster',\n",
       "  'AMLSettingsJsonString': '{\"path\":null,\"name\":\"coco128-automl-image-object-detection\",\"subscription_id\":\"c46a9435-c957-4e6c-a0f4-b9a597984773\",\"resource_group\":\"mlops\",\"workspace_name\":\"mlopsdev\",\"region\":\"centralus\",\"compute_target\":\"gpu-cluster\",\"spark_service\":null,\"azure_service\":\"remote\",\"many_models\":false,\"pipeline_fetch_max_batch_size\":1,\"enable_batch_run\":true,\"enable_run_restructure\":false,\"start_auxiliary_runs_before_parent_complete\":false,\"enable_code_generation\":false,\"iterations\":1,\"primary_metric\":\"mean_average_precision\",\"task_type\":\"image-object-detection\",\"positive_label\":null,\"data_script\":null,\"test_size\":0.0,\"test_include_predictions_only\":false,\"validation_size\":0.0,\"n_cross_validations\":null,\"y_min\":null,\"y_max\":null,\"num_classes\":null,\"featurization\":\"off\",\"_ignore_package_version_incompatibilities\":false,\"is_timeseries\":false,\"max_cores_per_iteration\":1,\"max_concurrent_iterations\":1,\"iteration_timeout_minutes\":null,\"mem_in_mb\":null,\"enforce_time_on_windows\":false,\"experiment_timeout_minutes\":8640,\"experiment_exit_score\":null,\"partition_column_names\":null,\"whitelist_models\":null,\"blacklist_algos\":[\"TensorFlowDNN\",\"TensorFlowLinearRegressor\"],\"supported_models\":[],\"private_models\":[],\"auto_blacklist\":true,\"blacklist_samples_reached\":false,\"exclude_nan_labels\":true,\"verbosity\":20,\"_debug_log\":\"azureml_automl.log\",\"show_warnings\":false,\"model_explainability\":true,\"service_url\":null,\"sdk_url\":null,\"sdk_packages\":null,\"enable_onnx_compatible_models\":false,\"enable_split_onnx_featurizer_estimator_models\":false,\"vm_type\":\"STANDARD_NC24S_V3\",\"telemetry_verbosity\":20,\"send_telemetry\":true,\"enable_dnn\":true,\"scenario\":\"Vision\",\"environment_label\":null,\"save_mlflow\":false,\"enable_categorical_indicators\":false,\"force_text_dnn\":false,\"enable_feature_sweeping\":true,\"enable_early_stopping\":true,\"early_stopping_n_iters\":10,\"arguments\":null,\"dataset_id\":\"db911b06-14c0-45eb-b4f3-341a1bc47fc4\",\"hyperdrive_config\":{\"max_total_jobs\":1,\"max_concurrent_jobs\":1,\"generator_config\":{\"name\":\"GRID\",\"parameter_space\":\"{\\\\\"model_name\\\\\": [\\\\\"choice\\\\\", [[\\\\\"yolov5\\\\\"]]]}\",\"properties\":null},\"policy_config\":null},\"validation_dataset_id\":\"db911b06-14c0-45eb-b4f3-341a1bc47fc4\",\"run_source\":\"AutoMLImageSDK\",\"metrics\":null,\"enable_metric_confidence\":false,\"enable_ensembling\":false,\"enable_stack_ensembling\":false,\"ensemble_iterations\":null,\"enable_tf\":false,\"enable_subsampling\":false,\"subsample_seed\":null,\"enable_nimbusml\":false,\"enable_streaming\":false,\"force_streaming\":false,\"track_child_runs\":true,\"allowed_private_models\":[],\"label_column_name\":\"label\",\"weight_column_name\":null,\"cv_split_column_names\":null,\"enable_local_managed\":false,\"_local_managed_run_id\":null,\"cost_mode\":1,\"lag_length\":0,\"metric_operation\":\"maximize\",\"preprocess\":false}',\n",
       "  'DataPrepJsonString': '{\\\\\"training_data\\\\\": {\\\\\"datasetId\\\\\": \\\\\"db911b06-14c0-45eb-b4f3-341a1bc47fc4\\\\\"}, \\\\\"validation_data\\\\\": {\\\\\"datasetId\\\\\": \\\\\"db911b06-14c0-45eb-b4f3-341a1bc47fc4\\\\\"}, \\\\\"datasets\\\\\": 0}',\n",
       "  'EnableSubsampling': 'False',\n",
       "  'runTemplate': 'AutoML',\n",
       "  'azureml.runsource': 'AutoMLImageSDK',\n",
       "  'display_task_type': 'image-object-detection',\n",
       "  'dependencies_versions': '{\"azureml-widgets\": \"1.39.0\", \"azureml-training-tabular\": \"1.39.0\", \"azureml-train\": \"1.39.0\", \"azureml-train-restclients-hyperdrive\": \"1.39.0\", \"azureml-train-core\": \"1.39.0\", \"azureml-train-automl\": \"1.39.0\", \"azureml-train-automl-runtime\": \"1.39.0\", \"azureml-train-automl-client\": \"1.39.0\", \"azureml-tensorboard\": \"1.39.0\", \"azureml-telemetry\": \"1.39.0\", \"azureml-sdk\": \"1.39.0\", \"azureml-samples\": \"0+unknown\", \"azureml-responsibleai\": \"1.39.0\", \"azureml-pipeline\": \"1.39.0\", \"azureml-pipeline-steps\": \"1.39.0\", \"azureml-pipeline-core\": \"1.39.0\", \"azureml-opendatasets\": \"1.39.0\", \"azureml-mlflow\": \"1.39.0\", \"azureml-interpret\": \"1.39.0\", \"azureml-inference-server-http\": \"0.4.10\", \"azureml-explain-model\": \"1.39.0\", \"azureml-defaults\": \"1.39.0\", \"azureml-dataset-runtime\": \"1.39.0\", \"azureml-dataprep\": \"2.27.1\", \"azureml-dataprep-rslex\": \"2.3.1\", \"azureml-dataprep-native\": \"38.0.0\", \"azureml-datadrift\": \"1.39.0\", \"azureml-core\": \"1.39.0\", \"azureml-contrib-services\": \"1.39.0\", \"azureml-contrib-server\": \"1.39.0\", \"azureml-contrib-reinforcementlearning\": \"1.39.0\", \"azureml-contrib-pipeline-steps\": \"1.39.0\", \"azureml-contrib-notebook\": \"1.39.0\", \"azureml-contrib-fairness\": \"1.39.0\", \"azureml-contrib-dataset\": \"1.39.0\", \"azureml-contrib-automl-pipeline-steps\": \"1.39.0\", \"azureml-cli-common\": \"1.39.0\", \"azureml-automl-runtime\": \"1.39.0\", \"azureml-automl-dnn-nlp\": \"1.39.0\", \"azureml-automl-core\": \"1.39.0\", \"azureml-accel-models\": \"1.39.0\"}',\n",
       "  '_aml_system_scenario_identification': 'Remote.Parent',\n",
       "  'ClientType': 'SDK',\n",
       "  'environment_cpu_name': 'AzureML-AutoML-DNN-Vision-GPU',\n",
       "  'environment_cpu_label': 'Latest',\n",
       "  'environment_gpu_name': 'AzureML-AutoML-DNN-Vision-GPU',\n",
       "  'environment_gpu_label': 'Latest',\n",
       "  'root_attribution': 'AutoMLImageSDK',\n",
       "  'attribution': 'AutoML',\n",
       "  'Orchestrator': 'AutoML',\n",
       "  'CancelUri': 'https://centralus.api.azureml.ms/jasmine/v1.0/subscriptions/c46a9435-c957-4e6c-a0f4-b9a597984773/resourceGroups/mlops/providers/Microsoft.MachineLearningServices/workspaces/mlopsdev/experimentids/fdd767ba-2180-4207-8ce7-46742e24d3b7/cancel/AutoML_035ab74b-895e-45d6-8431-b5161a7b11aa',\n",
       "  'azureml.git.repository_uri': 'https://github.com/balakreshnan/AMLBook2022.git',\n",
       "  'mlflow.source.git.repoURL': 'https://github.com/balakreshnan/AMLBook2022.git',\n",
       "  'azureml.git.branch': 'main',\n",
       "  'mlflow.source.git.branch': 'main',\n",
       "  'azureml.git.commit': 'dd916a5609d3c3e8f2e416d70ceb0d3261749477',\n",
       "  'mlflow.source.git.commit': 'dd916a5609d3c3e8f2e416d70ceb0d3261749477',\n",
       "  'azureml.git.dirty': 'True',\n",
       "  'ClientSdkVersion': '1.40.0.post2',\n",
       "  'snapshotId': '00000000-0000-0000-0000-000000000000'},\n",
       " 'inputDatasets': [{'dataset': {'id': 'db911b06-14c0-45eb-b4f3-341a1bc47fc4'}, 'consumptionDetails': {'type': 'RunInput', 'inputName': 'training_data', 'mechanism': 'Direct'}}, {'dataset': {'id': 'db911b06-14c0-45eb-b4f3-341a1bc47fc4'}, 'consumptionDetails': {'type': 'RunInput', 'inputName': 'validation_data', 'mechanism': 'Direct'}}],\n",
       " 'outputDatasets': [],\n",
       " 'logFiles': {},\n",
       " 'submittedBy': 'Balamurugan Balakreshnan'}"
      ]
     },
     "execution_count": 23,
     "metadata": {},
     "output_type": "execute_result"
    }
   ],
   "source": [
    "ws = Workspace.from_config()\n",
    "experiment = Experiment(ws, \"coco128-automl-image-object-detection\")\n",
    "automl_image_run = experiment.submit(automl_image_config_yolov5)\n",
    "automl_image_run.wait_for_completion(wait_post_processing=True)"
   ]
  },
  {
   "cell_type": "code",
   "execution_count": null,
   "id": "aa1753f8",
   "metadata": {},
   "outputs": [],
   "source": []
  },
  {
   "cell_type": "code",
   "execution_count": 24,
   "id": "4b691047",
   "metadata": {},
   "outputs": [],
   "source": [
    "best_child_run = automl_image_run.get_best_child()\n",
    "model_name = best_child_run.properties['model_name']\n",
    "model = best_child_run.register_model(model_name = model_name, model_path='outputs/model.pt')"
   ]
  },
  {
   "cell_type": "code",
   "execution_count": 25,
   "id": "abf5472e",
   "metadata": {},
   "outputs": [
    {
     "data": {
      "text/plain": [
       "Model(workspace=Workspace.create(name='mlopsdev', subscription_id='c46a9435-c957-4e6c-a0f4-b9a597984773', resource_group='mlops'), name=AutoML035ab74b80, id=AutoML035ab74b80:1, version=1, tags={}, properties={})"
      ]
     },
     "execution_count": 25,
     "metadata": {},
     "output_type": "execute_result"
    }
   ],
   "source": [
    "model\n"
   ]
  },
  {
   "cell_type": "code",
   "execution_count": 26,
   "id": "d51b83c4",
   "metadata": {},
   "outputs": [],
   "source": [
    "from azureml.automl.core.shared.constants import ImageTask\n",
    "from azureml.train.automl import AutoMLImageConfig\n",
    "from azureml.train.hyperdrive import BanditPolicy, RandomParameterSampling\n",
    "from azureml.train.hyperdrive import choice, uniform\n",
    "\n",
    "parameter_space = {\n",
    "    \"model\": choice(\n",
    "        {\n",
    "            \"model_name\": choice(\"yolov5\"),\n",
    "            \"learning_rate\": uniform(0.0001, 0.01),\n",
    "            \"model_size\": choice(\"small\", \"medium\"),  # model-specific\n",
    "            #'img_size': choice(640, 704, 768), # model-specific; might need GPU with large memory\n",
    "        },\n",
    "        {\n",
    "            \"model_name\": choice(\"fasterrcnn_resnet50_fpn\"),\n",
    "            \"learning_rate\": uniform(0.0001, 0.001),\n",
    "            \"optimizer\": choice(\"sgd\", \"adam\", \"adamw\"),\n",
    "            \"min_size\": choice(600, 800),  # model-specific\n",
    "            #'warmup_cosine_lr_warmup_epochs': choice(0, 3),\n",
    "        },\n",
    "    ),\n",
    "}\n",
    "\n",
    "tuning_settings = {\n",
    "    \"iterations\": 2,\n",
    "    \"max_concurrent_iterations\": 2,\n",
    "    \"hyperparameter_sampling\": RandomParameterSampling(parameter_space),\n",
    "    \"early_termination_policy\": BanditPolicy(\n",
    "        evaluation_interval=2, slack_factor=0.2, delay_evaluation=6\n",
    "    ),\n",
    "}\n",
    "\n",
    "automl_image_config = AutoMLImageConfig(\n",
    "    task=ImageTask.IMAGE_OBJECT_DETECTION,\n",
    "    compute_target=compute_target,\n",
    "    training_data=dataset,\n",
    "    validation_data=dataset,\n",
    "    **tuning_settings,\n",
    ")"
   ]
  },
  {
   "cell_type": "code",
   "execution_count": null,
   "id": "d0548368",
   "metadata": {},
   "outputs": [],
   "source": [
    "automl_image_run = experiment.submit(automl_image_config)\n",
    "automl_image_run.wait_for_completion(wait_post_processing=True)"
   ]
  },
  {
   "cell_type": "code",
   "execution_count": null,
   "id": "cc22f190",
   "metadata": {},
   "outputs": [],
   "source": []
  }
 ],
 "metadata": {
  "kernelspec": {
   "display_name": "Python 3.8 - AzureML",
   "language": "python",
   "name": "python38-azureml"
  },
  "language_info": {
   "codemirror_mode": {
    "name": "ipython",
    "version": 3
   },
   "file_extension": ".py",
   "mimetype": "text/x-python",
   "name": "python",
   "nbconvert_exporter": "python",
   "pygments_lexer": "ipython3",
   "version": "3.8.5"
  }
 },
 "nbformat": 4,
 "nbformat_minor": 5
}
